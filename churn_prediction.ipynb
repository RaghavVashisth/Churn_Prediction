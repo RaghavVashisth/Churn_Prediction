{
  "nbformat": 4,
  "nbformat_minor": 0,
  "metadata": {
    "colab": {
      "name": "churn_prediction.ipynb",
      "provenance": []
    },
    "kernelspec": {
      "name": "python3",
      "display_name": "Python 3"
    },
    "language_info": {
      "name": "python"
    }
  },
  "cells": [
    {
      "cell_type": "code",
      "execution_count": null,
      "metadata": {
        "id": "P6OjuDjyEps5"
      },
      "outputs": [],
      "source": [
        "#importing python libraries"
      ]
    },
    {
      "cell_type": "code",
      "source": [
        "import pandas as pd\n",
        "import numpy as np\n",
        "from sklearn.model_selection import train_test_split\n",
        "\n",
        "# tensorflow lib\n",
        "import tensorflow\n",
        "from tensorflow.keras.layers import Dense\n",
        "from tensorflow.keras.models import Sequential\n"
      ],
      "metadata": {
        "id": "JBDmwAA2FTbQ"
      },
      "execution_count": null,
      "outputs": []
    },
    {
      "cell_type": "code",
      "source": [
        "# to see the tensorflow version\n",
        "tensorflow.__version__"
      ],
      "metadata": {
        "colab": {
          "base_uri": "https://localhost:8080/",
          "height": 36
        },
        "id": "oU1PbGdVF9x_",
        "outputId": "a2e3edfd-3acc-46ff-b038-20098b9e74a4"
      },
      "execution_count": null,
      "outputs": [
        {
          "output_type": "execute_result",
          "data": {
            "text/plain": [
              "'2.8.2'"
            ],
            "application/vnd.google.colaboratory.intrinsic+json": {
              "type": "string"
            }
          },
          "metadata": {},
          "execution_count": 3
        }
      ]
    },
    {
      "cell_type": "code",
      "source": [
        "data =pd.read_csv('/content/drive/MyDrive/Churn_Modelling (1).csv')"
      ],
      "metadata": {
        "id": "SIzDHgmKGJld"
      },
      "execution_count": null,
      "outputs": []
    },
    {
      "cell_type": "code",
      "source": [
        "data.shape"
      ],
      "metadata": {
        "colab": {
          "base_uri": "https://localhost:8080/"
        },
        "id": "PkldvnmdGrOh",
        "outputId": "2b61cd61-c70b-405a-9e9e-1e75ba5a08ca"
      },
      "execution_count": null,
      "outputs": [
        {
          "output_type": "execute_result",
          "data": {
            "text/plain": [
              "(10000, 14)"
            ]
          },
          "metadata": {},
          "execution_count": 5
        }
      ]
    },
    {
      "cell_type": "code",
      "source": [
        "x = data.iloc[:,3:13]\n",
        "y = data.iloc[:,13]"
      ],
      "metadata": {
        "id": "swbiGBktGtes"
      },
      "execution_count": null,
      "outputs": []
    },
    {
      "cell_type": "code",
      "source": [
        "x.info()"
      ],
      "metadata": {
        "colab": {
          "base_uri": "https://localhost:8080/"
        },
        "id": "UhevItyvHRGj",
        "outputId": "6c1f9118-1465-4859-a421-d282e55cdf06"
      },
      "execution_count": null,
      "outputs": [
        {
          "output_type": "stream",
          "name": "stdout",
          "text": [
            "<class 'pandas.core.frame.DataFrame'>\n",
            "RangeIndex: 10000 entries, 0 to 9999\n",
            "Data columns (total 10 columns):\n",
            " #   Column           Non-Null Count  Dtype  \n",
            "---  ------           --------------  -----  \n",
            " 0   CreditScore      10000 non-null  int64  \n",
            " 1   Geography        10000 non-null  object \n",
            " 2   Gender           10000 non-null  object \n",
            " 3   Age              10000 non-null  int64  \n",
            " 4   Tenure           10000 non-null  int64  \n",
            " 5   Balance          10000 non-null  float64\n",
            " 6   NumOfProducts    10000 non-null  int64  \n",
            " 7   HasCrCard        10000 non-null  int64  \n",
            " 8   IsActiveMember   10000 non-null  int64  \n",
            " 9   EstimatedSalary  10000 non-null  float64\n",
            "dtypes: float64(2), int64(6), object(2)\n",
            "memory usage: 781.4+ KB\n"
          ]
        }
      ]
    },
    {
      "cell_type": "code",
      "source": [
        "geography = pd.get_dummies(x['Geography'] , drop_first = True)\n",
        "gender =pd.get_dummies(x['Gender'] , drop_first = True)\n"
      ],
      "metadata": {
        "id": "haff8ozIHTOu"
      },
      "execution_count": null,
      "outputs": []
    },
    {
      "cell_type": "code",
      "source": [
        "gender"
      ],
      "metadata": {
        "colab": {
          "base_uri": "https://localhost:8080/",
          "height": 424
        },
        "id": "pne-EZmwMQUP",
        "outputId": "b770c597-6597-46d7-e8d0-2dfcb8997126"
      },
      "execution_count": null,
      "outputs": [
        {
          "output_type": "execute_result",
          "data": {
            "text/plain": [
              "      Male\n",
              "0        0\n",
              "1        0\n",
              "2        0\n",
              "3        0\n",
              "4        0\n",
              "...    ...\n",
              "9995     1\n",
              "9996     1\n",
              "9997     0\n",
              "9998     1\n",
              "9999     0\n",
              "\n",
              "[10000 rows x 1 columns]"
            ],
            "text/html": [
              "\n",
              "  <div id=\"df-2c26eebf-e9da-4168-8b38-6ed50e3e709a\">\n",
              "    <div class=\"colab-df-container\">\n",
              "      <div>\n",
              "<style scoped>\n",
              "    .dataframe tbody tr th:only-of-type {\n",
              "        vertical-align: middle;\n",
              "    }\n",
              "\n",
              "    .dataframe tbody tr th {\n",
              "        vertical-align: top;\n",
              "    }\n",
              "\n",
              "    .dataframe thead th {\n",
              "        text-align: right;\n",
              "    }\n",
              "</style>\n",
              "<table border=\"1\" class=\"dataframe\">\n",
              "  <thead>\n",
              "    <tr style=\"text-align: right;\">\n",
              "      <th></th>\n",
              "      <th>Male</th>\n",
              "    </tr>\n",
              "  </thead>\n",
              "  <tbody>\n",
              "    <tr>\n",
              "      <th>0</th>\n",
              "      <td>0</td>\n",
              "    </tr>\n",
              "    <tr>\n",
              "      <th>1</th>\n",
              "      <td>0</td>\n",
              "    </tr>\n",
              "    <tr>\n",
              "      <th>2</th>\n",
              "      <td>0</td>\n",
              "    </tr>\n",
              "    <tr>\n",
              "      <th>3</th>\n",
              "      <td>0</td>\n",
              "    </tr>\n",
              "    <tr>\n",
              "      <th>4</th>\n",
              "      <td>0</td>\n",
              "    </tr>\n",
              "    <tr>\n",
              "      <th>...</th>\n",
              "      <td>...</td>\n",
              "    </tr>\n",
              "    <tr>\n",
              "      <th>9995</th>\n",
              "      <td>1</td>\n",
              "    </tr>\n",
              "    <tr>\n",
              "      <th>9996</th>\n",
              "      <td>1</td>\n",
              "    </tr>\n",
              "    <tr>\n",
              "      <th>9997</th>\n",
              "      <td>0</td>\n",
              "    </tr>\n",
              "    <tr>\n",
              "      <th>9998</th>\n",
              "      <td>1</td>\n",
              "    </tr>\n",
              "    <tr>\n",
              "      <th>9999</th>\n",
              "      <td>0</td>\n",
              "    </tr>\n",
              "  </tbody>\n",
              "</table>\n",
              "<p>10000 rows × 1 columns</p>\n",
              "</div>\n",
              "      <button class=\"colab-df-convert\" onclick=\"convertToInteractive('df-2c26eebf-e9da-4168-8b38-6ed50e3e709a')\"\n",
              "              title=\"Convert this dataframe to an interactive table.\"\n",
              "              style=\"display:none;\">\n",
              "        \n",
              "  <svg xmlns=\"http://www.w3.org/2000/svg\" height=\"24px\"viewBox=\"0 0 24 24\"\n",
              "       width=\"24px\">\n",
              "    <path d=\"M0 0h24v24H0V0z\" fill=\"none\"/>\n",
              "    <path d=\"M18.56 5.44l.94 2.06.94-2.06 2.06-.94-2.06-.94-.94-2.06-.94 2.06-2.06.94zm-11 1L8.5 8.5l.94-2.06 2.06-.94-2.06-.94L8.5 2.5l-.94 2.06-2.06.94zm10 10l.94 2.06.94-2.06 2.06-.94-2.06-.94-.94-2.06-.94 2.06-2.06.94z\"/><path d=\"M17.41 7.96l-1.37-1.37c-.4-.4-.92-.59-1.43-.59-.52 0-1.04.2-1.43.59L10.3 9.45l-7.72 7.72c-.78.78-.78 2.05 0 2.83L4 21.41c.39.39.9.59 1.41.59.51 0 1.02-.2 1.41-.59l7.78-7.78 2.81-2.81c.8-.78.8-2.07 0-2.86zM5.41 20L4 18.59l7.72-7.72 1.47 1.35L5.41 20z\"/>\n",
              "  </svg>\n",
              "      </button>\n",
              "      \n",
              "  <style>\n",
              "    .colab-df-container {\n",
              "      display:flex;\n",
              "      flex-wrap:wrap;\n",
              "      gap: 12px;\n",
              "    }\n",
              "\n",
              "    .colab-df-convert {\n",
              "      background-color: #E8F0FE;\n",
              "      border: none;\n",
              "      border-radius: 50%;\n",
              "      cursor: pointer;\n",
              "      display: none;\n",
              "      fill: #1967D2;\n",
              "      height: 32px;\n",
              "      padding: 0 0 0 0;\n",
              "      width: 32px;\n",
              "    }\n",
              "\n",
              "    .colab-df-convert:hover {\n",
              "      background-color: #E2EBFA;\n",
              "      box-shadow: 0px 1px 2px rgba(60, 64, 67, 0.3), 0px 1px 3px 1px rgba(60, 64, 67, 0.15);\n",
              "      fill: #174EA6;\n",
              "    }\n",
              "\n",
              "    [theme=dark] .colab-df-convert {\n",
              "      background-color: #3B4455;\n",
              "      fill: #D2E3FC;\n",
              "    }\n",
              "\n",
              "    [theme=dark] .colab-df-convert:hover {\n",
              "      background-color: #434B5C;\n",
              "      box-shadow: 0px 1px 3px 1px rgba(0, 0, 0, 0.15);\n",
              "      filter: drop-shadow(0px 1px 2px rgba(0, 0, 0, 0.3));\n",
              "      fill: #FFFFFF;\n",
              "    }\n",
              "  </style>\n",
              "\n",
              "      <script>\n",
              "        const buttonEl =\n",
              "          document.querySelector('#df-2c26eebf-e9da-4168-8b38-6ed50e3e709a button.colab-df-convert');\n",
              "        buttonEl.style.display =\n",
              "          google.colab.kernel.accessAllowed ? 'block' : 'none';\n",
              "\n",
              "        async function convertToInteractive(key) {\n",
              "          const element = document.querySelector('#df-2c26eebf-e9da-4168-8b38-6ed50e3e709a');\n",
              "          const dataTable =\n",
              "            await google.colab.kernel.invokeFunction('convertToInteractive',\n",
              "                                                     [key], {});\n",
              "          if (!dataTable) return;\n",
              "\n",
              "          const docLinkHtml = 'Like what you see? Visit the ' +\n",
              "            '<a target=\"_blank\" href=https://colab.research.google.com/notebooks/data_table.ipynb>data table notebook</a>'\n",
              "            + ' to learn more about interactive tables.';\n",
              "          element.innerHTML = '';\n",
              "          dataTable['output_type'] = 'display_data';\n",
              "          await google.colab.output.renderOutput(dataTable, element);\n",
              "          const docLink = document.createElement('div');\n",
              "          docLink.innerHTML = docLinkHtml;\n",
              "          element.appendChild(docLink);\n",
              "        }\n",
              "      </script>\n",
              "    </div>\n",
              "  </div>\n",
              "  "
            ]
          },
          "metadata": {},
          "execution_count": 9
        }
      ]
    },
    {
      "cell_type": "code",
      "source": [
        "x = pd.concat([x,geography,gender] , axis =1  )\n",
        "x.drop(columns = ['Geography','Gender'] ,axis=1, inplace = True)"
      ],
      "metadata": {
        "id": "HTQWW_omKVbr"
      },
      "execution_count": null,
      "outputs": []
    },
    {
      "cell_type": "code",
      "source": [
        "x.head(4)"
      ],
      "metadata": {
        "colab": {
          "base_uri": "https://localhost:8080/",
          "height": 239
        },
        "id": "7nJgXdKnKnJQ",
        "outputId": "5457036d-f4d5-4ab3-e08b-ed80d439405c"
      },
      "execution_count": null,
      "outputs": [
        {
          "output_type": "execute_result",
          "data": {
            "text/plain": [
              "   CreditScore  Age  Tenure    Balance  NumOfProducts  HasCrCard  \\\n",
              "0          619   42       2       0.00              1          1   \n",
              "1          608   41       1   83807.86              1          0   \n",
              "2          502   42       8  159660.80              3          1   \n",
              "3          699   39       1       0.00              2          0   \n",
              "\n",
              "   IsActiveMember  EstimatedSalary  Germany  Spain  Male  \n",
              "0               1        101348.88        0      0     0  \n",
              "1               1        112542.58        0      1     0  \n",
              "2               0        113931.57        0      0     0  \n",
              "3               0         93826.63        0      0     0  "
            ],
            "text/html": [
              "\n",
              "  <div id=\"df-c1e83b3b-790b-4ae0-813f-d6bd36e04078\">\n",
              "    <div class=\"colab-df-container\">\n",
              "      <div>\n",
              "<style scoped>\n",
              "    .dataframe tbody tr th:only-of-type {\n",
              "        vertical-align: middle;\n",
              "    }\n",
              "\n",
              "    .dataframe tbody tr th {\n",
              "        vertical-align: top;\n",
              "    }\n",
              "\n",
              "    .dataframe thead th {\n",
              "        text-align: right;\n",
              "    }\n",
              "</style>\n",
              "<table border=\"1\" class=\"dataframe\">\n",
              "  <thead>\n",
              "    <tr style=\"text-align: right;\">\n",
              "      <th></th>\n",
              "      <th>CreditScore</th>\n",
              "      <th>Age</th>\n",
              "      <th>Tenure</th>\n",
              "      <th>Balance</th>\n",
              "      <th>NumOfProducts</th>\n",
              "      <th>HasCrCard</th>\n",
              "      <th>IsActiveMember</th>\n",
              "      <th>EstimatedSalary</th>\n",
              "      <th>Germany</th>\n",
              "      <th>Spain</th>\n",
              "      <th>Male</th>\n",
              "    </tr>\n",
              "  </thead>\n",
              "  <tbody>\n",
              "    <tr>\n",
              "      <th>0</th>\n",
              "      <td>619</td>\n",
              "      <td>42</td>\n",
              "      <td>2</td>\n",
              "      <td>0.00</td>\n",
              "      <td>1</td>\n",
              "      <td>1</td>\n",
              "      <td>1</td>\n",
              "      <td>101348.88</td>\n",
              "      <td>0</td>\n",
              "      <td>0</td>\n",
              "      <td>0</td>\n",
              "    </tr>\n",
              "    <tr>\n",
              "      <th>1</th>\n",
              "      <td>608</td>\n",
              "      <td>41</td>\n",
              "      <td>1</td>\n",
              "      <td>83807.86</td>\n",
              "      <td>1</td>\n",
              "      <td>0</td>\n",
              "      <td>1</td>\n",
              "      <td>112542.58</td>\n",
              "      <td>0</td>\n",
              "      <td>1</td>\n",
              "      <td>0</td>\n",
              "    </tr>\n",
              "    <tr>\n",
              "      <th>2</th>\n",
              "      <td>502</td>\n",
              "      <td>42</td>\n",
              "      <td>8</td>\n",
              "      <td>159660.80</td>\n",
              "      <td>3</td>\n",
              "      <td>1</td>\n",
              "      <td>0</td>\n",
              "      <td>113931.57</td>\n",
              "      <td>0</td>\n",
              "      <td>0</td>\n",
              "      <td>0</td>\n",
              "    </tr>\n",
              "    <tr>\n",
              "      <th>3</th>\n",
              "      <td>699</td>\n",
              "      <td>39</td>\n",
              "      <td>1</td>\n",
              "      <td>0.00</td>\n",
              "      <td>2</td>\n",
              "      <td>0</td>\n",
              "      <td>0</td>\n",
              "      <td>93826.63</td>\n",
              "      <td>0</td>\n",
              "      <td>0</td>\n",
              "      <td>0</td>\n",
              "    </tr>\n",
              "  </tbody>\n",
              "</table>\n",
              "</div>\n",
              "      <button class=\"colab-df-convert\" onclick=\"convertToInteractive('df-c1e83b3b-790b-4ae0-813f-d6bd36e04078')\"\n",
              "              title=\"Convert this dataframe to an interactive table.\"\n",
              "              style=\"display:none;\">\n",
              "        \n",
              "  <svg xmlns=\"http://www.w3.org/2000/svg\" height=\"24px\"viewBox=\"0 0 24 24\"\n",
              "       width=\"24px\">\n",
              "    <path d=\"M0 0h24v24H0V0z\" fill=\"none\"/>\n",
              "    <path d=\"M18.56 5.44l.94 2.06.94-2.06 2.06-.94-2.06-.94-.94-2.06-.94 2.06-2.06.94zm-11 1L8.5 8.5l.94-2.06 2.06-.94-2.06-.94L8.5 2.5l-.94 2.06-2.06.94zm10 10l.94 2.06.94-2.06 2.06-.94-2.06-.94-.94-2.06-.94 2.06-2.06.94z\"/><path d=\"M17.41 7.96l-1.37-1.37c-.4-.4-.92-.59-1.43-.59-.52 0-1.04.2-1.43.59L10.3 9.45l-7.72 7.72c-.78.78-.78 2.05 0 2.83L4 21.41c.39.39.9.59 1.41.59.51 0 1.02-.2 1.41-.59l7.78-7.78 2.81-2.81c.8-.78.8-2.07 0-2.86zM5.41 20L4 18.59l7.72-7.72 1.47 1.35L5.41 20z\"/>\n",
              "  </svg>\n",
              "      </button>\n",
              "      \n",
              "  <style>\n",
              "    .colab-df-container {\n",
              "      display:flex;\n",
              "      flex-wrap:wrap;\n",
              "      gap: 12px;\n",
              "    }\n",
              "\n",
              "    .colab-df-convert {\n",
              "      background-color: #E8F0FE;\n",
              "      border: none;\n",
              "      border-radius: 50%;\n",
              "      cursor: pointer;\n",
              "      display: none;\n",
              "      fill: #1967D2;\n",
              "      height: 32px;\n",
              "      padding: 0 0 0 0;\n",
              "      width: 32px;\n",
              "    }\n",
              "\n",
              "    .colab-df-convert:hover {\n",
              "      background-color: #E2EBFA;\n",
              "      box-shadow: 0px 1px 2px rgba(60, 64, 67, 0.3), 0px 1px 3px 1px rgba(60, 64, 67, 0.15);\n",
              "      fill: #174EA6;\n",
              "    }\n",
              "\n",
              "    [theme=dark] .colab-df-convert {\n",
              "      background-color: #3B4455;\n",
              "      fill: #D2E3FC;\n",
              "    }\n",
              "\n",
              "    [theme=dark] .colab-df-convert:hover {\n",
              "      background-color: #434B5C;\n",
              "      box-shadow: 0px 1px 3px 1px rgba(0, 0, 0, 0.15);\n",
              "      filter: drop-shadow(0px 1px 2px rgba(0, 0, 0, 0.3));\n",
              "      fill: #FFFFFF;\n",
              "    }\n",
              "  </style>\n",
              "\n",
              "      <script>\n",
              "        const buttonEl =\n",
              "          document.querySelector('#df-c1e83b3b-790b-4ae0-813f-d6bd36e04078 button.colab-df-convert');\n",
              "        buttonEl.style.display =\n",
              "          google.colab.kernel.accessAllowed ? 'block' : 'none';\n",
              "\n",
              "        async function convertToInteractive(key) {\n",
              "          const element = document.querySelector('#df-c1e83b3b-790b-4ae0-813f-d6bd36e04078');\n",
              "          const dataTable =\n",
              "            await google.colab.kernel.invokeFunction('convertToInteractive',\n",
              "                                                     [key], {});\n",
              "          if (!dataTable) return;\n",
              "\n",
              "          const docLinkHtml = 'Like what you see? Visit the ' +\n",
              "            '<a target=\"_blank\" href=https://colab.research.google.com/notebooks/data_table.ipynb>data table notebook</a>'\n",
              "            + ' to learn more about interactive tables.';\n",
              "          element.innerHTML = '';\n",
              "          dataTable['output_type'] = 'display_data';\n",
              "          await google.colab.output.renderOutput(dataTable, element);\n",
              "          const docLink = document.createElement('div');\n",
              "          docLink.innerHTML = docLinkHtml;\n",
              "          element.appendChild(docLink);\n",
              "        }\n",
              "      </script>\n",
              "    </div>\n",
              "  </div>\n",
              "  "
            ]
          },
          "metadata": {},
          "execution_count": 11
        }
      ]
    },
    {
      "cell_type": "code",
      "source": [
        "# spliting data into train test"
      ],
      "metadata": {
        "id": "oFO8wJ5VK5Up"
      },
      "execution_count": null,
      "outputs": []
    },
    {
      "cell_type": "code",
      "source": [
        "x_train ,x_test , y_train , y_test  = train_test_split(x , y , test_size =0.2 , random_state = 101)"
      ],
      "metadata": {
        "id": "IP0HyQPzMxSH"
      },
      "execution_count": null,
      "outputs": []
    },
    {
      "cell_type": "code",
      "source": [
        "x_train.shape,y_test.shape"
      ],
      "metadata": {
        "colab": {
          "base_uri": "https://localhost:8080/"
        },
        "id": "CN1p3nJKNdkU",
        "outputId": "09e914af-0951-4054-ac90-f083699ecd19"
      },
      "execution_count": null,
      "outputs": [
        {
          "output_type": "execute_result",
          "data": {
            "text/plain": [
              "((8000, 11), (2000,))"
            ]
          },
          "metadata": {},
          "execution_count": 14
        }
      ]
    },
    {
      "cell_type": "code",
      "source": [
        "# deep learning different\n",
        "# model building\n",
        "model = Sequential()\n",
        "\n",
        "# hidden layer 1\n",
        "model.add(Dense(180 , activation='relu',kernel_initializer='he_uniform'))\n",
        "\n",
        "# hidden layer 2\n",
        "model.add(Dense(90 , activation='sigmoid',kernel_initializer='glorot_uniform'))\n",
        "\n",
        "# hidden layer 3\n",
        "model.add(Dense(40,activation='relu',kernel_initializer='he_uniform'))\n",
        "\n",
        "# hidden layer 4 \n",
        "model.add(Dense(22 ,activation = 'sigmoid',kernel_initializer='glorot_uniform'))\n",
        "\n",
        "# output layer\n",
        "model.add(Dense(2))\n",
        "\n",
        "# compile the model\n",
        "model.compile(optimizer= 'adam',loss = 'binary_crossentropy',metrics = ['Accuracy'])\n",
        "\n",
        "\n"
      ],
      "metadata": {
        "id": "Bru9wzs-NkNf"
      },
      "execution_count": null,
      "outputs": []
    },
    {
      "cell_type": "code",
      "source": [
        "# train\n",
        "model.fit(x_train ,y_train, epochs= 20 , validation_data=(x_test,y_test)) "
      ],
      "metadata": {
        "colab": {
          "base_uri": "https://localhost:8080/"
        },
        "id": "OAd2uh9fR5gH",
        "outputId": "8a0f039b-31d1-4c93-c679-283cf0c589c6"
      },
      "execution_count": null,
      "outputs": [
        {
          "output_type": "stream",
          "name": "stdout",
          "text": [
            "Epoch 1/100\n",
            "250/250 [==============================] - 1s 3ms/step - loss: 1.8070 - Accuracy: 0.2017 - val_loss: 1.8888 - val_Accuracy: 0.2115\n",
            "Epoch 2/100\n",
            "250/250 [==============================] - 1s 2ms/step - loss: 1.8059 - Accuracy: 0.2017 - val_loss: 1.8877 - val_Accuracy: 0.2115\n",
            "Epoch 3/100\n",
            "250/250 [==============================] - 1s 2ms/step - loss: 1.8060 - Accuracy: 0.2017 - val_loss: 1.8877 - val_Accuracy: 0.2115\n",
            "Epoch 4/100\n",
            "250/250 [==============================] - 1s 3ms/step - loss: 1.8044 - Accuracy: 0.2017 - val_loss: 1.8892 - val_Accuracy: 0.2115\n",
            "Epoch 5/100\n",
            "250/250 [==============================] - 1s 3ms/step - loss: 1.8052 - Accuracy: 0.2017 - val_loss: 1.8859 - val_Accuracy: 0.2115\n",
            "Epoch 6/100\n",
            "250/250 [==============================] - 1s 3ms/step - loss: 1.8056 - Accuracy: 0.2017 - val_loss: 1.8879 - val_Accuracy: 0.2115\n",
            "Epoch 7/100\n",
            "250/250 [==============================] - 1s 2ms/step - loss: 1.8043 - Accuracy: 0.2017 - val_loss: 1.8857 - val_Accuracy: 0.2115\n",
            "Epoch 8/100\n",
            "250/250 [==============================] - 1s 3ms/step - loss: 1.8046 - Accuracy: 0.2017 - val_loss: 1.8860 - val_Accuracy: 0.2115\n",
            "Epoch 9/100\n",
            "250/250 [==============================] - 1s 2ms/step - loss: 1.8044 - Accuracy: 0.2017 - val_loss: 1.8857 - val_Accuracy: 0.2115\n",
            "Epoch 10/100\n",
            "250/250 [==============================] - 1s 3ms/step - loss: 1.8043 - Accuracy: 0.2017 - val_loss: 1.8870 - val_Accuracy: 0.2115\n",
            "Epoch 11/100\n",
            "250/250 [==============================] - 1s 3ms/step - loss: 1.8049 - Accuracy: 0.2017 - val_loss: 1.8865 - val_Accuracy: 0.2115\n",
            "Epoch 12/100\n",
            "250/250 [==============================] - 1s 2ms/step - loss: 1.8045 - Accuracy: 0.2017 - val_loss: 1.8857 - val_Accuracy: 0.2115\n",
            "Epoch 13/100\n",
            "250/250 [==============================] - 1s 3ms/step - loss: 1.8053 - Accuracy: 0.2017 - val_loss: 1.8888 - val_Accuracy: 0.2115\n",
            "Epoch 14/100\n",
            "250/250 [==============================] - 1s 3ms/step - loss: 1.8053 - Accuracy: 0.2017 - val_loss: 1.8880 - val_Accuracy: 0.2115\n",
            "Epoch 15/100\n",
            "250/250 [==============================] - 1s 3ms/step - loss: 1.8043 - Accuracy: 0.2017 - val_loss: 1.8864 - val_Accuracy: 0.2115\n",
            "Epoch 16/100\n",
            "250/250 [==============================] - 1s 4ms/step - loss: 1.8045 - Accuracy: 0.2017 - val_loss: 1.8873 - val_Accuracy: 0.2115\n",
            "Epoch 17/100\n",
            "250/250 [==============================] - 1s 4ms/step - loss: 1.8045 - Accuracy: 0.2017 - val_loss: 1.8936 - val_Accuracy: 0.2115\n",
            "Epoch 18/100\n",
            "250/250 [==============================] - 1s 3ms/step - loss: 1.8045 - Accuracy: 0.2017 - val_loss: 1.8861 - val_Accuracy: 0.2115\n",
            "Epoch 19/100\n",
            "250/250 [==============================] - 1s 4ms/step - loss: 1.8043 - Accuracy: 0.2017 - val_loss: 1.8860 - val_Accuracy: 0.2115\n",
            "Epoch 20/100\n",
            "250/250 [==============================] - 1s 4ms/step - loss: 1.8046 - Accuracy: 0.2017 - val_loss: 1.8870 - val_Accuracy: 0.2115\n",
            "Epoch 21/100\n",
            "250/250 [==============================] - 1s 2ms/step - loss: 1.8046 - Accuracy: 0.2017 - val_loss: 1.8864 - val_Accuracy: 0.2115\n",
            "Epoch 22/100\n",
            "250/250 [==============================] - 1s 2ms/step - loss: 1.8042 - Accuracy: 0.2017 - val_loss: 1.8857 - val_Accuracy: 0.2115\n",
            "Epoch 23/100\n",
            "250/250 [==============================] - 1s 3ms/step - loss: 1.8040 - Accuracy: 0.2017 - val_loss: 1.8894 - val_Accuracy: 0.2115\n",
            "Epoch 24/100\n",
            "250/250 [==============================] - 1s 2ms/step - loss: 1.8041 - Accuracy: 0.2017 - val_loss: 1.8889 - val_Accuracy: 0.2115\n",
            "Epoch 25/100\n",
            "250/250 [==============================] - 1s 2ms/step - loss: 1.8045 - Accuracy: 0.2017 - val_loss: 1.8856 - val_Accuracy: 0.2115\n",
            "Epoch 26/100\n",
            "250/250 [==============================] - 1s 2ms/step - loss: 1.8050 - Accuracy: 0.2017 - val_loss: 1.8882 - val_Accuracy: 0.2115\n",
            "Epoch 27/100\n",
            "250/250 [==============================] - 1s 2ms/step - loss: 1.8044 - Accuracy: 0.2017 - val_loss: 1.8858 - val_Accuracy: 0.2115\n",
            "Epoch 28/100\n",
            "250/250 [==============================] - 1s 3ms/step - loss: 1.8046 - Accuracy: 0.2017 - val_loss: 1.8857 - val_Accuracy: 0.2115\n",
            "Epoch 29/100\n",
            "250/250 [==============================] - 1s 2ms/step - loss: 1.8044 - Accuracy: 0.2017 - val_loss: 1.8863 - val_Accuracy: 0.2115\n",
            "Epoch 30/100\n",
            "250/250 [==============================] - 1s 3ms/step - loss: 1.8042 - Accuracy: 0.2017 - val_loss: 1.8875 - val_Accuracy: 0.2115\n",
            "Epoch 31/100\n",
            "250/250 [==============================] - 1s 3ms/step - loss: 1.8041 - Accuracy: 0.2017 - val_loss: 1.8903 - val_Accuracy: 0.2115\n",
            "Epoch 32/100\n",
            "250/250 [==============================] - 1s 3ms/step - loss: 1.8046 - Accuracy: 0.2017 - val_loss: 1.8895 - val_Accuracy: 0.2115\n",
            "Epoch 33/100\n",
            "250/250 [==============================] - 1s 3ms/step - loss: 1.8044 - Accuracy: 0.2017 - val_loss: 1.8859 - val_Accuracy: 0.2115\n",
            "Epoch 34/100\n",
            "250/250 [==============================] - 1s 2ms/step - loss: 1.8043 - Accuracy: 0.2017 - val_loss: 1.8866 - val_Accuracy: 0.2115\n",
            "Epoch 35/100\n",
            "250/250 [==============================] - 1s 2ms/step - loss: 1.8044 - Accuracy: 0.2017 - val_loss: 1.8856 - val_Accuracy: 0.2115\n",
            "Epoch 36/100\n",
            "250/250 [==============================] - 1s 2ms/step - loss: 1.8044 - Accuracy: 0.2017 - val_loss: 1.8857 - val_Accuracy: 0.2115\n",
            "Epoch 37/100\n",
            "250/250 [==============================] - 1s 2ms/step - loss: 1.8042 - Accuracy: 0.2017 - val_loss: 1.8924 - val_Accuracy: 0.2115\n",
            "Epoch 38/100\n",
            "250/250 [==============================] - 1s 3ms/step - loss: 1.8051 - Accuracy: 0.2017 - val_loss: 1.8876 - val_Accuracy: 0.2115\n",
            "Epoch 39/100\n",
            "250/250 [==============================] - 1s 3ms/step - loss: 1.8040 - Accuracy: 0.2017 - val_loss: 1.8860 - val_Accuracy: 0.2115\n",
            "Epoch 40/100\n",
            "250/250 [==============================] - 1s 2ms/step - loss: 1.8044 - Accuracy: 0.2017 - val_loss: 1.8861 - val_Accuracy: 0.2115\n",
            "Epoch 41/100\n",
            "250/250 [==============================] - 1s 4ms/step - loss: 1.8040 - Accuracy: 0.2017 - val_loss: 1.8862 - val_Accuracy: 0.2115\n",
            "Epoch 42/100\n",
            "250/250 [==============================] - 1s 3ms/step - loss: 1.8042 - Accuracy: 0.2017 - val_loss: 1.8907 - val_Accuracy: 0.2115\n",
            "Epoch 43/100\n",
            "250/250 [==============================] - 1s 3ms/step - loss: 1.8044 - Accuracy: 0.2017 - val_loss: 1.8856 - val_Accuracy: 0.2115\n",
            "Epoch 44/100\n",
            "250/250 [==============================] - 1s 3ms/step - loss: 1.8042 - Accuracy: 0.2017 - val_loss: 1.8866 - val_Accuracy: 0.2115\n",
            "Epoch 45/100\n",
            "250/250 [==============================] - 1s 3ms/step - loss: 1.8042 - Accuracy: 0.2017 - val_loss: 1.8866 - val_Accuracy: 0.2115\n",
            "Epoch 46/100\n",
            "250/250 [==============================] - 1s 3ms/step - loss: 1.8044 - Accuracy: 0.2017 - val_loss: 1.8868 - val_Accuracy: 0.2115\n",
            "Epoch 47/100\n",
            "250/250 [==============================] - 1s 3ms/step - loss: 1.8045 - Accuracy: 0.2017 - val_loss: 1.8857 - val_Accuracy: 0.2115\n",
            "Epoch 48/100\n",
            "250/250 [==============================] - 1s 3ms/step - loss: 1.8044 - Accuracy: 0.2017 - val_loss: 1.8861 - val_Accuracy: 0.2115\n",
            "Epoch 49/100\n",
            "250/250 [==============================] - 1s 2ms/step - loss: 1.8043 - Accuracy: 0.2017 - val_loss: 1.8857 - val_Accuracy: 0.2115\n",
            "Epoch 50/100\n",
            "250/250 [==============================] - 1s 2ms/step - loss: 1.8043 - Accuracy: 0.2017 - val_loss: 1.8857 - val_Accuracy: 0.2115\n",
            "Epoch 51/100\n",
            "250/250 [==============================] - 1s 3ms/step - loss: 1.8042 - Accuracy: 0.2017 - val_loss: 1.8864 - val_Accuracy: 0.2115\n",
            "Epoch 52/100\n",
            "250/250 [==============================] - 1s 3ms/step - loss: 1.8042 - Accuracy: 0.2017 - val_loss: 1.8921 - val_Accuracy: 0.2115\n",
            "Epoch 53/100\n",
            "250/250 [==============================] - 1s 3ms/step - loss: 1.8046 - Accuracy: 0.2017 - val_loss: 1.8858 - val_Accuracy: 0.2115\n",
            "Epoch 54/100\n",
            "250/250 [==============================] - 1s 3ms/step - loss: 1.8042 - Accuracy: 0.2017 - val_loss: 1.8859 - val_Accuracy: 0.2115\n",
            "Epoch 55/100\n",
            "250/250 [==============================] - 1s 3ms/step - loss: 1.8038 - Accuracy: 0.2017 - val_loss: 1.8858 - val_Accuracy: 0.2115\n",
            "Epoch 56/100\n",
            "250/250 [==============================] - 1s 2ms/step - loss: 1.8042 - Accuracy: 0.2017 - val_loss: 1.8857 - val_Accuracy: 0.2115\n",
            "Epoch 57/100\n",
            "250/250 [==============================] - 1s 2ms/step - loss: 1.8043 - Accuracy: 0.2017 - val_loss: 1.8857 - val_Accuracy: 0.2115\n",
            "Epoch 58/100\n",
            "250/250 [==============================] - 1s 2ms/step - loss: 1.8047 - Accuracy: 0.2017 - val_loss: 1.8865 - val_Accuracy: 0.2115\n",
            "Epoch 59/100\n",
            "250/250 [==============================] - 1s 3ms/step - loss: 1.8043 - Accuracy: 0.2017 - val_loss: 1.8878 - val_Accuracy: 0.2115\n",
            "Epoch 60/100\n",
            "250/250 [==============================] - 1s 2ms/step - loss: 1.8042 - Accuracy: 0.2017 - val_loss: 1.8856 - val_Accuracy: 0.2115\n",
            "Epoch 61/100\n",
            "250/250 [==============================] - 1s 3ms/step - loss: 1.8041 - Accuracy: 0.2017 - val_loss: 1.8862 - val_Accuracy: 0.2115\n",
            "Epoch 62/100\n",
            "250/250 [==============================] - 1s 3ms/step - loss: 1.8043 - Accuracy: 0.2017 - val_loss: 1.8856 - val_Accuracy: 0.2115\n",
            "Epoch 63/100\n",
            "250/250 [==============================] - 1s 3ms/step - loss: 1.8042 - Accuracy: 0.2017 - val_loss: 1.8857 - val_Accuracy: 0.2115\n",
            "Epoch 64/100\n",
            "250/250 [==============================] - 1s 2ms/step - loss: 1.8046 - Accuracy: 0.2017 - val_loss: 1.8865 - val_Accuracy: 0.2115\n",
            "Epoch 65/100\n",
            "250/250 [==============================] - 1s 3ms/step - loss: 1.8042 - Accuracy: 0.2017 - val_loss: 1.8877 - val_Accuracy: 0.2115\n",
            "Epoch 66/100\n",
            "250/250 [==============================] - 1s 2ms/step - loss: 1.8040 - Accuracy: 0.2017 - val_loss: 1.8857 - val_Accuracy: 0.2115\n",
            "Epoch 67/100\n",
            "250/250 [==============================] - 1s 2ms/step - loss: 1.8043 - Accuracy: 0.2017 - val_loss: 1.8864 - val_Accuracy: 0.2115\n",
            "Epoch 68/100\n",
            "250/250 [==============================] - 1s 3ms/step - loss: 1.8049 - Accuracy: 0.2017 - val_loss: 1.8878 - val_Accuracy: 0.2115\n",
            "Epoch 69/100\n",
            "250/250 [==============================] - 1s 3ms/step - loss: 1.8047 - Accuracy: 0.2017 - val_loss: 1.8858 - val_Accuracy: 0.2115\n",
            "Epoch 70/100\n",
            "250/250 [==============================] - 1s 3ms/step - loss: 1.8045 - Accuracy: 0.2017 - val_loss: 1.8881 - val_Accuracy: 0.2115\n",
            "Epoch 71/100\n",
            "250/250 [==============================] - 1s 3ms/step - loss: 1.8041 - Accuracy: 0.2017 - val_loss: 1.8866 - val_Accuracy: 0.2115\n",
            "Epoch 72/100\n",
            "250/250 [==============================] - 1s 3ms/step - loss: 1.8045 - Accuracy: 0.2017 - val_loss: 1.8858 - val_Accuracy: 0.2115\n",
            "Epoch 73/100\n",
            "250/250 [==============================] - 1s 2ms/step - loss: 1.8040 - Accuracy: 0.2017 - val_loss: 1.8869 - val_Accuracy: 0.2115\n",
            "Epoch 74/100\n",
            "250/250 [==============================] - 1s 2ms/step - loss: 1.8039 - Accuracy: 0.2017 - val_loss: 1.8857 - val_Accuracy: 0.2115\n",
            "Epoch 75/100\n",
            "250/250 [==============================] - 1s 3ms/step - loss: 1.8044 - Accuracy: 0.2017 - val_loss: 1.8873 - val_Accuracy: 0.2115\n",
            "Epoch 76/100\n",
            "250/250 [==============================] - 1s 3ms/step - loss: 1.8044 - Accuracy: 0.2017 - val_loss: 1.8862 - val_Accuracy: 0.2115\n",
            "Epoch 77/100\n",
            "250/250 [==============================] - 1s 3ms/step - loss: 1.8041 - Accuracy: 0.2017 - val_loss: 1.8861 - val_Accuracy: 0.2115\n",
            "Epoch 78/100\n",
            "250/250 [==============================] - 1s 3ms/step - loss: 1.8041 - Accuracy: 0.2017 - val_loss: 1.8859 - val_Accuracy: 0.2115\n",
            "Epoch 79/100\n",
            "250/250 [==============================] - 1s 2ms/step - loss: 1.8042 - Accuracy: 0.2017 - val_loss: 1.8880 - val_Accuracy: 0.2115\n",
            "Epoch 80/100\n",
            "250/250 [==============================] - 1s 3ms/step - loss: 1.8042 - Accuracy: 0.2017 - val_loss: 1.8867 - val_Accuracy: 0.2115\n",
            "Epoch 81/100\n",
            "250/250 [==============================] - 1s 2ms/step - loss: 1.8043 - Accuracy: 0.2017 - val_loss: 1.8875 - val_Accuracy: 0.2115\n",
            "Epoch 82/100\n",
            "250/250 [==============================] - 1s 2ms/step - loss: 1.8043 - Accuracy: 0.2017 - val_loss: 1.8869 - val_Accuracy: 0.2115\n",
            "Epoch 83/100\n",
            "250/250 [==============================] - 1s 3ms/step - loss: 1.8046 - Accuracy: 0.2017 - val_loss: 1.8871 - val_Accuracy: 0.2115\n",
            "Epoch 84/100\n",
            "250/250 [==============================] - 1s 3ms/step - loss: 1.8039 - Accuracy: 0.2017 - val_loss: 1.8887 - val_Accuracy: 0.2115\n",
            "Epoch 85/100\n",
            "250/250 [==============================] - 1s 3ms/step - loss: 1.8045 - Accuracy: 0.2017 - val_loss: 1.8869 - val_Accuracy: 0.2115\n",
            "Epoch 86/100\n",
            "250/250 [==============================] - 1s 3ms/step - loss: 1.8045 - Accuracy: 0.2017 - val_loss: 1.8863 - val_Accuracy: 0.2115\n",
            "Epoch 87/100\n",
            "250/250 [==============================] - 1s 3ms/step - loss: 1.8041 - Accuracy: 0.2017 - val_loss: 1.8860 - val_Accuracy: 0.2115\n",
            "Epoch 88/100\n",
            "250/250 [==============================] - 1s 3ms/step - loss: 1.8041 - Accuracy: 0.2017 - val_loss: 1.8874 - val_Accuracy: 0.2115\n",
            "Epoch 89/100\n",
            "250/250 [==============================] - 1s 3ms/step - loss: 1.8041 - Accuracy: 0.2017 - val_loss: 1.8866 - val_Accuracy: 0.2115\n",
            "Epoch 90/100\n",
            "250/250 [==============================] - 1s 3ms/step - loss: 1.8040 - Accuracy: 0.2017 - val_loss: 1.8880 - val_Accuracy: 0.2115\n",
            "Epoch 91/100\n",
            "250/250 [==============================] - 1s 2ms/step - loss: 1.8051 - Accuracy: 0.2017 - val_loss: 1.8858 - val_Accuracy: 0.2115\n",
            "Epoch 92/100\n",
            "250/250 [==============================] - 1s 2ms/step - loss: 1.8041 - Accuracy: 0.2017 - val_loss: 1.8858 - val_Accuracy: 0.2115\n",
            "Epoch 93/100\n",
            "250/250 [==============================] - 1s 3ms/step - loss: 1.8040 - Accuracy: 0.2017 - val_loss: 1.8865 - val_Accuracy: 0.2115\n",
            "Epoch 94/100\n",
            "250/250 [==============================] - 1s 2ms/step - loss: 1.8044 - Accuracy: 0.2017 - val_loss: 1.8879 - val_Accuracy: 0.2115\n",
            "Epoch 95/100\n",
            "250/250 [==============================] - 1s 2ms/step - loss: 1.8043 - Accuracy: 0.2017 - val_loss: 1.8857 - val_Accuracy: 0.2115\n",
            "Epoch 96/100\n",
            "250/250 [==============================] - 1s 3ms/step - loss: 1.8047 - Accuracy: 0.2017 - val_loss: 1.8860 - val_Accuracy: 0.2115\n",
            "Epoch 97/100\n",
            "250/250 [==============================] - 1s 5ms/step - loss: 1.8044 - Accuracy: 0.2017 - val_loss: 1.8894 - val_Accuracy: 0.2115\n",
            "Epoch 98/100\n",
            "250/250 [==============================] - 1s 5ms/step - loss: 1.8042 - Accuracy: 0.2017 - val_loss: 1.8862 - val_Accuracy: 0.2115\n",
            "Epoch 99/100\n",
            "250/250 [==============================] - 1s 5ms/step - loss: 1.8045 - Accuracy: 0.2017 - val_loss: 1.8858 - val_Accuracy: 0.2115\n",
            "Epoch 100/100\n",
            "250/250 [==============================] - 1s 3ms/step - loss: 1.8041 - Accuracy: 0.2017 - val_loss: 1.8860 - val_Accuracy: 0.2115\n"
          ]
        },
        {
          "output_type": "execute_result",
          "data": {
            "text/plain": [
              "<keras.callbacks.History at 0x7f823c429250>"
            ]
          },
          "metadata": {},
          "execution_count": 24
        }
      ]
    },
    {
      "cell_type": "code",
      "source": [
        "# upgrade the above code\n",
        "# 1. epochs\n",
        "# 2.batch_size\n",
        "# 3. activation fn"
      ],
      "metadata": {
        "id": "8j4ugKaWSZpl"
      },
      "execution_count": null,
      "outputs": []
    },
    {
      "cell_type": "code",
      "source": [
        "#tips \n",
        "# 1. never try to put same activation function on all hidden layers (sandwitch)\n",
        "# 2. try to decrese no. of neurons in each layer\n"
      ],
      "metadata": {
        "id": "BDX0NrzLUm_U"
      },
      "execution_count": null,
      "outputs": []
    }
  ]
}